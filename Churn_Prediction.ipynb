{
 "cells": [
  {
   "cell_type": "markdown",
   "id": "7767fc6e",
   "metadata": {},
   "source": [
    "# Import Libraries"
   ]
  },
  {
   "cell_type": "code",
   "execution_count": 1,
   "id": "950991da",
   "metadata": {},
   "outputs": [],
   "source": [
    "import pandas as pd\n",
    "import numpy as np\n",
    "from sklearn.preprocessing import OneHotEncoder\n",
    "from sklearn.model_selection import train_test_split\n",
    "from sklearn.ensemble import RandomForestClassifier\n",
    "from sklearn.metrics import accuracy_score\n",
    "from sklearn.metrics import classification_report, confusion_matrix\n",
    "import matplotlib.pyplot as plt\n",
    "import seaborn as sns"
   ]
  },
  {
   "cell_type": "markdown",
   "id": "5f48036e",
   "metadata": {},
   "source": [
    "# Preprocessing"
   ]
  },
  {
   "cell_type": "code",
   "execution_count": 2,
   "id": "92c5dac1",
   "metadata": {},
   "outputs": [],
   "source": [
    "df = pd.read_csv('Churned_churned.csv')"
   ]
  },
  {
   "cell_type": "code",
   "execution_count": 3,
   "id": "1f956eae",
   "metadata": {},
   "outputs": [],
   "source": [
    "df = df.drop(['Customer_ID', 'Value_Deal', 'Number_of_Referrals', 'Churn_Category', 'Churn_Reason'], axis = 1)"
   ]
  },
  {
   "cell_type": "code",
   "execution_count": 4,
   "id": "949223cb",
   "metadata": {},
   "outputs": [],
   "source": [
    "df['Customer_Status'] = df['Customer_Status'].map({'Stayed': 0, 'Churned' : 1})"
   ]
  },
  {
   "cell_type": "code",
   "execution_count": 5,
   "id": "33e15364",
   "metadata": {},
   "outputs": [
    {
     "data": {
      "text/plain": [
       "Gender                         0\n",
       "Age                            0\n",
       "Married                        0\n",
       "State                          0\n",
       "Tenure_in_Months               0\n",
       "Phone_Service                  0\n",
       "Multiple_Lines                 0\n",
       "Internet_Service               0\n",
       "Internet_Type                  0\n",
       "Online_Security                0\n",
       "Online_Backup                  0\n",
       "Device_Protection_Plan         0\n",
       "Premium_Support                0\n",
       "Streaming_TV                   0\n",
       "Streaming_Movies               0\n",
       "Streaming_Music                0\n",
       "Unlimited_Data                 0\n",
       "Contract                       0\n",
       "Paperless_Billing              0\n",
       "Payment_Method                 0\n",
       "Monthly_Charge                 0\n",
       "Total_Charges                  0\n",
       "Total_Refunds                  0\n",
       "Total_Extra_Data_Charges       0\n",
       "Total_Long_Distance_Charges    0\n",
       "Total_Revenue                  0\n",
       "Customer_Status                0\n",
       "dtype: int64"
      ]
     },
     "execution_count": 5,
     "metadata": {},
     "output_type": "execute_result"
    }
   ],
   "source": [
    "df.isnull().sum()"
   ]
  },
  {
   "cell_type": "code",
   "execution_count": 6,
   "id": "3cc15037",
   "metadata": {},
   "outputs": [
    {
     "data": {
      "text/html": [
       "<div>\n",
       "<style scoped>\n",
       "    .dataframe tbody tr th:only-of-type {\n",
       "        vertical-align: middle;\n",
       "    }\n",
       "\n",
       "    .dataframe tbody tr th {\n",
       "        vertical-align: top;\n",
       "    }\n",
       "\n",
       "    .dataframe thead th {\n",
       "        text-align: right;\n",
       "    }\n",
       "</style>\n",
       "<table border=\"1\" class=\"dataframe\">\n",
       "  <thead>\n",
       "    <tr style=\"text-align: right;\">\n",
       "      <th></th>\n",
       "      <th>Gender</th>\n",
       "      <th>Age</th>\n",
       "      <th>Married</th>\n",
       "      <th>State</th>\n",
       "      <th>Tenure_in_Months</th>\n",
       "      <th>Phone_Service</th>\n",
       "      <th>Multiple_Lines</th>\n",
       "      <th>Internet_Service</th>\n",
       "      <th>Internet_Type</th>\n",
       "      <th>Online_Security</th>\n",
       "      <th>...</th>\n",
       "      <th>Unlimited_Data</th>\n",
       "      <th>Contract</th>\n",
       "      <th>Paperless_Billing</th>\n",
       "      <th>Payment_Method</th>\n",
       "      <th>Monthly_Charge</th>\n",
       "      <th>Total_Charges</th>\n",
       "      <th>Total_Refunds</th>\n",
       "      <th>Total_Extra_Data_Charges</th>\n",
       "      <th>Total_Long_Distance_Charges</th>\n",
       "      <th>Total_Revenue</th>\n",
       "    </tr>\n",
       "  </thead>\n",
       "  <tbody>\n",
       "    <tr>\n",
       "      <th>0</th>\n",
       "      <td>Male</td>\n",
       "      <td>43</td>\n",
       "      <td>Yes</td>\n",
       "      <td>Jammu &amp; Kashmir</td>\n",
       "      <td>10</td>\n",
       "      <td>Yes</td>\n",
       "      <td>Yes</td>\n",
       "      <td>Yes</td>\n",
       "      <td>Fiber Optic</td>\n",
       "      <td>No</td>\n",
       "      <td>...</td>\n",
       "      <td>Yes</td>\n",
       "      <td>Month-to-Month</td>\n",
       "      <td>Yes</td>\n",
       "      <td>Credit Card</td>\n",
       "      <td>75.349998</td>\n",
       "      <td>3161.399902</td>\n",
       "      <td>0.0</td>\n",
       "      <td>0</td>\n",
       "      <td>845.380005</td>\n",
       "      <td>4006.780029</td>\n",
       "    </tr>\n",
       "    <tr>\n",
       "      <th>1</th>\n",
       "      <td>Male</td>\n",
       "      <td>34</td>\n",
       "      <td>Yes</td>\n",
       "      <td>Haryana</td>\n",
       "      <td>12</td>\n",
       "      <td>Yes</td>\n",
       "      <td>No</td>\n",
       "      <td>No</td>\n",
       "      <td>None</td>\n",
       "      <td>No</td>\n",
       "      <td>...</td>\n",
       "      <td>No</td>\n",
       "      <td>Two Year</td>\n",
       "      <td>No</td>\n",
       "      <td>Credit Card</td>\n",
       "      <td>20.900000</td>\n",
       "      <td>454.000000</td>\n",
       "      <td>0.0</td>\n",
       "      <td>0</td>\n",
       "      <td>434.929993</td>\n",
       "      <td>888.929993</td>\n",
       "    </tr>\n",
       "    <tr>\n",
       "      <th>2</th>\n",
       "      <td>Male</td>\n",
       "      <td>29</td>\n",
       "      <td>No</td>\n",
       "      <td>Jammu &amp; Kashmir</td>\n",
       "      <td>5</td>\n",
       "      <td>Yes</td>\n",
       "      <td>No</td>\n",
       "      <td>Yes</td>\n",
       "      <td>Cable</td>\n",
       "      <td>No</td>\n",
       "      <td>...</td>\n",
       "      <td>Yes</td>\n",
       "      <td>Month-to-Month</td>\n",
       "      <td>Yes</td>\n",
       "      <td>Bank Withdrawal</td>\n",
       "      <td>70.699997</td>\n",
       "      <td>141.449997</td>\n",
       "      <td>0.0</td>\n",
       "      <td>0</td>\n",
       "      <td>19.520000</td>\n",
       "      <td>160.970001</td>\n",
       "    </tr>\n",
       "    <tr>\n",
       "      <th>3</th>\n",
       "      <td>Male</td>\n",
       "      <td>50</td>\n",
       "      <td>No</td>\n",
       "      <td>Haryana</td>\n",
       "      <td>31</td>\n",
       "      <td>Yes</td>\n",
       "      <td>No</td>\n",
       "      <td>Yes</td>\n",
       "      <td>Fiber Optic</td>\n",
       "      <td>No</td>\n",
       "      <td>...</td>\n",
       "      <td>No</td>\n",
       "      <td>Month-to-Month</td>\n",
       "      <td>No</td>\n",
       "      <td>Bank Withdrawal</td>\n",
       "      <td>77.849998</td>\n",
       "      <td>299.200012</td>\n",
       "      <td>0.0</td>\n",
       "      <td>10</td>\n",
       "      <td>171.199997</td>\n",
       "      <td>480.399994</td>\n",
       "    </tr>\n",
       "    <tr>\n",
       "      <th>4</th>\n",
       "      <td>Female</td>\n",
       "      <td>74</td>\n",
       "      <td>Yes</td>\n",
       "      <td>Madhya Pradesh</td>\n",
       "      <td>5</td>\n",
       "      <td>Yes</td>\n",
       "      <td>No</td>\n",
       "      <td>Yes</td>\n",
       "      <td>Fiber Optic</td>\n",
       "      <td>No</td>\n",
       "      <td>...</td>\n",
       "      <td>Yes</td>\n",
       "      <td>Month-to-Month</td>\n",
       "      <td>Yes</td>\n",
       "      <td>Mailed Check</td>\n",
       "      <td>70.449997</td>\n",
       "      <td>70.449997</td>\n",
       "      <td>0.0</td>\n",
       "      <td>0</td>\n",
       "      <td>15.280000</td>\n",
       "      <td>85.730003</td>\n",
       "    </tr>\n",
       "    <tr>\n",
       "      <th>...</th>\n",
       "      <td>...</td>\n",
       "      <td>...</td>\n",
       "      <td>...</td>\n",
       "      <td>...</td>\n",
       "      <td>...</td>\n",
       "      <td>...</td>\n",
       "      <td>...</td>\n",
       "      <td>...</td>\n",
       "      <td>...</td>\n",
       "      <td>...</td>\n",
       "      <td>...</td>\n",
       "      <td>...</td>\n",
       "      <td>...</td>\n",
       "      <td>...</td>\n",
       "      <td>...</td>\n",
       "      <td>...</td>\n",
       "      <td>...</td>\n",
       "      <td>...</td>\n",
       "      <td>...</td>\n",
       "      <td>...</td>\n",
       "      <td>...</td>\n",
       "    </tr>\n",
       "    <tr>\n",
       "      <th>6002</th>\n",
       "      <td>Female</td>\n",
       "      <td>56</td>\n",
       "      <td>No</td>\n",
       "      <td>Madhya Pradesh</td>\n",
       "      <td>13</td>\n",
       "      <td>Yes</td>\n",
       "      <td>Yes</td>\n",
       "      <td>Yes</td>\n",
       "      <td>Fiber Optic</td>\n",
       "      <td>Yes</td>\n",
       "      <td>...</td>\n",
       "      <td>Yes</td>\n",
       "      <td>Two Year</td>\n",
       "      <td>Yes</td>\n",
       "      <td>Bank Withdrawal</td>\n",
       "      <td>114.000000</td>\n",
       "      <td>8093.149902</td>\n",
       "      <td>0.0</td>\n",
       "      <td>0</td>\n",
       "      <td>2337.840088</td>\n",
       "      <td>10430.990230</td>\n",
       "    </tr>\n",
       "    <tr>\n",
       "      <th>6003</th>\n",
       "      <td>Male</td>\n",
       "      <td>30</td>\n",
       "      <td>No</td>\n",
       "      <td>Rajasthan</td>\n",
       "      <td>6</td>\n",
       "      <td>Yes</td>\n",
       "      <td>Yes</td>\n",
       "      <td>Yes</td>\n",
       "      <td>Fiber Optic</td>\n",
       "      <td>No</td>\n",
       "      <td>...</td>\n",
       "      <td>Yes</td>\n",
       "      <td>Month-to-Month</td>\n",
       "      <td>Yes</td>\n",
       "      <td>Bank Withdrawal</td>\n",
       "      <td>75.599998</td>\n",
       "      <td>1395.050049</td>\n",
       "      <td>0.0</td>\n",
       "      <td>0</td>\n",
       "      <td>273.239990</td>\n",
       "      <td>1668.290039</td>\n",
       "    </tr>\n",
       "    <tr>\n",
       "      <th>6004</th>\n",
       "      <td>Male</td>\n",
       "      <td>24</td>\n",
       "      <td>Yes</td>\n",
       "      <td>Uttar Pradesh</td>\n",
       "      <td>4</td>\n",
       "      <td>Yes</td>\n",
       "      <td>No</td>\n",
       "      <td>Yes</td>\n",
       "      <td>Fiber Optic</td>\n",
       "      <td>No</td>\n",
       "      <td>...</td>\n",
       "      <td>Yes</td>\n",
       "      <td>One Year</td>\n",
       "      <td>Yes</td>\n",
       "      <td>Credit Card</td>\n",
       "      <td>102.449997</td>\n",
       "      <td>6654.100098</td>\n",
       "      <td>0.0</td>\n",
       "      <td>0</td>\n",
       "      <td>2591.360107</td>\n",
       "      <td>9245.459961</td>\n",
       "    </tr>\n",
       "    <tr>\n",
       "      <th>6005</th>\n",
       "      <td>Female</td>\n",
       "      <td>34</td>\n",
       "      <td>Yes</td>\n",
       "      <td>Assam</td>\n",
       "      <td>21</td>\n",
       "      <td>Yes</td>\n",
       "      <td>Yes</td>\n",
       "      <td>Yes</td>\n",
       "      <td>Fiber Optic</td>\n",
       "      <td>No</td>\n",
       "      <td>...</td>\n",
       "      <td>Yes</td>\n",
       "      <td>Month-to-Month</td>\n",
       "      <td>No</td>\n",
       "      <td>Credit Card</td>\n",
       "      <td>80.000000</td>\n",
       "      <td>4242.350098</td>\n",
       "      <td>0.0</td>\n",
       "      <td>0</td>\n",
       "      <td>286.619995</td>\n",
       "      <td>4528.970215</td>\n",
       "    </tr>\n",
       "    <tr>\n",
       "      <th>6006</th>\n",
       "      <td>Female</td>\n",
       "      <td>35</td>\n",
       "      <td>Yes</td>\n",
       "      <td>Puducherry</td>\n",
       "      <td>9</td>\n",
       "      <td>Yes</td>\n",
       "      <td>No</td>\n",
       "      <td>Yes</td>\n",
       "      <td>Fiber Optic</td>\n",
       "      <td>No</td>\n",
       "      <td>...</td>\n",
       "      <td>Yes</td>\n",
       "      <td>Month-to-Month</td>\n",
       "      <td>Yes</td>\n",
       "      <td>Credit Card</td>\n",
       "      <td>87.800003</td>\n",
       "      <td>2621.750000</td>\n",
       "      <td>0.0</td>\n",
       "      <td>0</td>\n",
       "      <td>974.979981</td>\n",
       "      <td>3596.729980</td>\n",
       "    </tr>\n",
       "  </tbody>\n",
       "</table>\n",
       "<p>6007 rows × 26 columns</p>\n",
       "</div>"
      ],
      "text/plain": [
       "      Gender  Age Married            State  Tenure_in_Months Phone_Service  \\\n",
       "0       Male   43     Yes  Jammu & Kashmir                10           Yes   \n",
       "1       Male   34     Yes          Haryana                12           Yes   \n",
       "2       Male   29      No  Jammu & Kashmir                 5           Yes   \n",
       "3       Male   50      No          Haryana                31           Yes   \n",
       "4     Female   74     Yes   Madhya Pradesh                 5           Yes   \n",
       "...      ...  ...     ...              ...               ...           ...   \n",
       "6002  Female   56      No   Madhya Pradesh                13           Yes   \n",
       "6003    Male   30      No        Rajasthan                 6           Yes   \n",
       "6004    Male   24     Yes    Uttar Pradesh                 4           Yes   \n",
       "6005  Female   34     Yes            Assam                21           Yes   \n",
       "6006  Female   35     Yes       Puducherry                 9           Yes   \n",
       "\n",
       "     Multiple_Lines Internet_Service Internet_Type Online_Security  ...  \\\n",
       "0               Yes              Yes   Fiber Optic              No  ...   \n",
       "1                No               No          None              No  ...   \n",
       "2                No              Yes         Cable              No  ...   \n",
       "3                No              Yes   Fiber Optic              No  ...   \n",
       "4                No              Yes   Fiber Optic              No  ...   \n",
       "...             ...              ...           ...             ...  ...   \n",
       "6002            Yes              Yes   Fiber Optic             Yes  ...   \n",
       "6003            Yes              Yes   Fiber Optic              No  ...   \n",
       "6004             No              Yes   Fiber Optic              No  ...   \n",
       "6005            Yes              Yes   Fiber Optic              No  ...   \n",
       "6006             No              Yes   Fiber Optic              No  ...   \n",
       "\n",
       "     Unlimited_Data        Contract Paperless_Billing   Payment_Method  \\\n",
       "0               Yes  Month-to-Month               Yes      Credit Card   \n",
       "1                No        Two Year                No      Credit Card   \n",
       "2               Yes  Month-to-Month               Yes  Bank Withdrawal   \n",
       "3                No  Month-to-Month                No  Bank Withdrawal   \n",
       "4               Yes  Month-to-Month               Yes     Mailed Check   \n",
       "...             ...             ...               ...              ...   \n",
       "6002            Yes        Two Year               Yes  Bank Withdrawal   \n",
       "6003            Yes  Month-to-Month               Yes  Bank Withdrawal   \n",
       "6004            Yes        One Year               Yes      Credit Card   \n",
       "6005            Yes  Month-to-Month                No      Credit Card   \n",
       "6006            Yes  Month-to-Month               Yes      Credit Card   \n",
       "\n",
       "     Monthly_Charge Total_Charges Total_Refunds Total_Extra_Data_Charges  \\\n",
       "0         75.349998   3161.399902           0.0                        0   \n",
       "1         20.900000    454.000000           0.0                        0   \n",
       "2         70.699997    141.449997           0.0                        0   \n",
       "3         77.849998    299.200012           0.0                       10   \n",
       "4         70.449997     70.449997           0.0                        0   \n",
       "...             ...           ...           ...                      ...   \n",
       "6002     114.000000   8093.149902           0.0                        0   \n",
       "6003      75.599998   1395.050049           0.0                        0   \n",
       "6004     102.449997   6654.100098           0.0                        0   \n",
       "6005      80.000000   4242.350098           0.0                        0   \n",
       "6006      87.800003   2621.750000           0.0                        0   \n",
       "\n",
       "     Total_Long_Distance_Charges Total_Revenue  \n",
       "0                     845.380005   4006.780029  \n",
       "1                     434.929993    888.929993  \n",
       "2                      19.520000    160.970001  \n",
       "3                     171.199997    480.399994  \n",
       "4                      15.280000     85.730003  \n",
       "...                          ...           ...  \n",
       "6002                 2337.840088  10430.990230  \n",
       "6003                  273.239990   1668.290039  \n",
       "6004                 2591.360107   9245.459961  \n",
       "6005                  286.619995   4528.970215  \n",
       "6006                  974.979981   3596.729980  \n",
       "\n",
       "[6007 rows x 26 columns]"
      ]
     },
     "execution_count": 6,
     "metadata": {},
     "output_type": "execute_result"
    }
   ],
   "source": [
    "X = df.iloc[:,:-1]\n",
    "X"
   ]
  },
  {
   "cell_type": "code",
   "execution_count": 7,
   "id": "9cc89015",
   "metadata": {},
   "outputs": [],
   "source": [
    "# Select categorical columns\n",
    "def encoding(dataframe):\n",
    "    categorical_columns = dataframe.select_dtypes(include=['object', 'category']).columns\n",
    "\n",
    "    for column in categorical_columns:\n",
    "        encoder = OneHotEncoder(sparse=False)\n",
    "        dataframe[column] = encoder.fit_transform(dataframe[column].values.reshape(-1, 1))"
   ]
  },
  {
   "cell_type": "code",
   "execution_count": 8,
   "id": "098d191a",
   "metadata": {},
   "outputs": [],
   "source": [
    "encoding(X)"
   ]
  },
  {
   "cell_type": "code",
   "execution_count": 9,
   "id": "2593cfc7",
   "metadata": {},
   "outputs": [
    {
     "data": {
      "text/html": [
       "<div>\n",
       "<style scoped>\n",
       "    .dataframe tbody tr th:only-of-type {\n",
       "        vertical-align: middle;\n",
       "    }\n",
       "\n",
       "    .dataframe tbody tr th {\n",
       "        vertical-align: top;\n",
       "    }\n",
       "\n",
       "    .dataframe thead th {\n",
       "        text-align: right;\n",
       "    }\n",
       "</style>\n",
       "<table border=\"1\" class=\"dataframe\">\n",
       "  <thead>\n",
       "    <tr style=\"text-align: right;\">\n",
       "      <th></th>\n",
       "      <th>Gender</th>\n",
       "      <th>Age</th>\n",
       "      <th>Married</th>\n",
       "      <th>State</th>\n",
       "      <th>Tenure_in_Months</th>\n",
       "      <th>Phone_Service</th>\n",
       "      <th>Multiple_Lines</th>\n",
       "      <th>Internet_Service</th>\n",
       "      <th>Internet_Type</th>\n",
       "      <th>Online_Security</th>\n",
       "      <th>...</th>\n",
       "      <th>Unlimited_Data</th>\n",
       "      <th>Contract</th>\n",
       "      <th>Paperless_Billing</th>\n",
       "      <th>Payment_Method</th>\n",
       "      <th>Monthly_Charge</th>\n",
       "      <th>Total_Charges</th>\n",
       "      <th>Total_Refunds</th>\n",
       "      <th>Total_Extra_Data_Charges</th>\n",
       "      <th>Total_Long_Distance_Charges</th>\n",
       "      <th>Total_Revenue</th>\n",
       "    </tr>\n",
       "  </thead>\n",
       "  <tbody>\n",
       "    <tr>\n",
       "      <th>0</th>\n",
       "      <td>0.0</td>\n",
       "      <td>43</td>\n",
       "      <td>0.0</td>\n",
       "      <td>0.0</td>\n",
       "      <td>10</td>\n",
       "      <td>0.0</td>\n",
       "      <td>0.0</td>\n",
       "      <td>0.0</td>\n",
       "      <td>0.0</td>\n",
       "      <td>1.0</td>\n",
       "      <td>...</td>\n",
       "      <td>0.0</td>\n",
       "      <td>1.0</td>\n",
       "      <td>0.0</td>\n",
       "      <td>0.0</td>\n",
       "      <td>75.349998</td>\n",
       "      <td>3161.399902</td>\n",
       "      <td>0.0</td>\n",
       "      <td>0</td>\n",
       "      <td>845.380005</td>\n",
       "      <td>4006.780029</td>\n",
       "    </tr>\n",
       "    <tr>\n",
       "      <th>1</th>\n",
       "      <td>0.0</td>\n",
       "      <td>34</td>\n",
       "      <td>0.0</td>\n",
       "      <td>0.0</td>\n",
       "      <td>12</td>\n",
       "      <td>0.0</td>\n",
       "      <td>1.0</td>\n",
       "      <td>1.0</td>\n",
       "      <td>0.0</td>\n",
       "      <td>1.0</td>\n",
       "      <td>...</td>\n",
       "      <td>1.0</td>\n",
       "      <td>0.0</td>\n",
       "      <td>1.0</td>\n",
       "      <td>0.0</td>\n",
       "      <td>20.900000</td>\n",
       "      <td>454.000000</td>\n",
       "      <td>0.0</td>\n",
       "      <td>0</td>\n",
       "      <td>434.929993</td>\n",
       "      <td>888.929993</td>\n",
       "    </tr>\n",
       "    <tr>\n",
       "      <th>2</th>\n",
       "      <td>0.0</td>\n",
       "      <td>29</td>\n",
       "      <td>1.0</td>\n",
       "      <td>0.0</td>\n",
       "      <td>5</td>\n",
       "      <td>0.0</td>\n",
       "      <td>1.0</td>\n",
       "      <td>0.0</td>\n",
       "      <td>1.0</td>\n",
       "      <td>1.0</td>\n",
       "      <td>...</td>\n",
       "      <td>0.0</td>\n",
       "      <td>1.0</td>\n",
       "      <td>0.0</td>\n",
       "      <td>1.0</td>\n",
       "      <td>70.699997</td>\n",
       "      <td>141.449997</td>\n",
       "      <td>0.0</td>\n",
       "      <td>0</td>\n",
       "      <td>19.520000</td>\n",
       "      <td>160.970001</td>\n",
       "    </tr>\n",
       "    <tr>\n",
       "      <th>3</th>\n",
       "      <td>0.0</td>\n",
       "      <td>50</td>\n",
       "      <td>1.0</td>\n",
       "      <td>0.0</td>\n",
       "      <td>31</td>\n",
       "      <td>0.0</td>\n",
       "      <td>1.0</td>\n",
       "      <td>0.0</td>\n",
       "      <td>0.0</td>\n",
       "      <td>1.0</td>\n",
       "      <td>...</td>\n",
       "      <td>1.0</td>\n",
       "      <td>1.0</td>\n",
       "      <td>1.0</td>\n",
       "      <td>1.0</td>\n",
       "      <td>77.849998</td>\n",
       "      <td>299.200012</td>\n",
       "      <td>0.0</td>\n",
       "      <td>10</td>\n",
       "      <td>171.199997</td>\n",
       "      <td>480.399994</td>\n",
       "    </tr>\n",
       "    <tr>\n",
       "      <th>4</th>\n",
       "      <td>1.0</td>\n",
       "      <td>74</td>\n",
       "      <td>0.0</td>\n",
       "      <td>0.0</td>\n",
       "      <td>5</td>\n",
       "      <td>0.0</td>\n",
       "      <td>1.0</td>\n",
       "      <td>0.0</td>\n",
       "      <td>0.0</td>\n",
       "      <td>1.0</td>\n",
       "      <td>...</td>\n",
       "      <td>0.0</td>\n",
       "      <td>1.0</td>\n",
       "      <td>0.0</td>\n",
       "      <td>0.0</td>\n",
       "      <td>70.449997</td>\n",
       "      <td>70.449997</td>\n",
       "      <td>0.0</td>\n",
       "      <td>0</td>\n",
       "      <td>15.280000</td>\n",
       "      <td>85.730003</td>\n",
       "    </tr>\n",
       "    <tr>\n",
       "      <th>...</th>\n",
       "      <td>...</td>\n",
       "      <td>...</td>\n",
       "      <td>...</td>\n",
       "      <td>...</td>\n",
       "      <td>...</td>\n",
       "      <td>...</td>\n",
       "      <td>...</td>\n",
       "      <td>...</td>\n",
       "      <td>...</td>\n",
       "      <td>...</td>\n",
       "      <td>...</td>\n",
       "      <td>...</td>\n",
       "      <td>...</td>\n",
       "      <td>...</td>\n",
       "      <td>...</td>\n",
       "      <td>...</td>\n",
       "      <td>...</td>\n",
       "      <td>...</td>\n",
       "      <td>...</td>\n",
       "      <td>...</td>\n",
       "      <td>...</td>\n",
       "    </tr>\n",
       "    <tr>\n",
       "      <th>6002</th>\n",
       "      <td>1.0</td>\n",
       "      <td>56</td>\n",
       "      <td>1.0</td>\n",
       "      <td>0.0</td>\n",
       "      <td>13</td>\n",
       "      <td>0.0</td>\n",
       "      <td>0.0</td>\n",
       "      <td>0.0</td>\n",
       "      <td>0.0</td>\n",
       "      <td>0.0</td>\n",
       "      <td>...</td>\n",
       "      <td>0.0</td>\n",
       "      <td>0.0</td>\n",
       "      <td>0.0</td>\n",
       "      <td>1.0</td>\n",
       "      <td>114.000000</td>\n",
       "      <td>8093.149902</td>\n",
       "      <td>0.0</td>\n",
       "      <td>0</td>\n",
       "      <td>2337.840088</td>\n",
       "      <td>10430.990230</td>\n",
       "    </tr>\n",
       "    <tr>\n",
       "      <th>6003</th>\n",
       "      <td>0.0</td>\n",
       "      <td>30</td>\n",
       "      <td>1.0</td>\n",
       "      <td>0.0</td>\n",
       "      <td>6</td>\n",
       "      <td>0.0</td>\n",
       "      <td>0.0</td>\n",
       "      <td>0.0</td>\n",
       "      <td>0.0</td>\n",
       "      <td>1.0</td>\n",
       "      <td>...</td>\n",
       "      <td>0.0</td>\n",
       "      <td>1.0</td>\n",
       "      <td>0.0</td>\n",
       "      <td>1.0</td>\n",
       "      <td>75.599998</td>\n",
       "      <td>1395.050049</td>\n",
       "      <td>0.0</td>\n",
       "      <td>0</td>\n",
       "      <td>273.239990</td>\n",
       "      <td>1668.290039</td>\n",
       "    </tr>\n",
       "    <tr>\n",
       "      <th>6004</th>\n",
       "      <td>0.0</td>\n",
       "      <td>24</td>\n",
       "      <td>0.0</td>\n",
       "      <td>0.0</td>\n",
       "      <td>4</td>\n",
       "      <td>0.0</td>\n",
       "      <td>1.0</td>\n",
       "      <td>0.0</td>\n",
       "      <td>0.0</td>\n",
       "      <td>1.0</td>\n",
       "      <td>...</td>\n",
       "      <td>0.0</td>\n",
       "      <td>0.0</td>\n",
       "      <td>0.0</td>\n",
       "      <td>0.0</td>\n",
       "      <td>102.449997</td>\n",
       "      <td>6654.100098</td>\n",
       "      <td>0.0</td>\n",
       "      <td>0</td>\n",
       "      <td>2591.360107</td>\n",
       "      <td>9245.459961</td>\n",
       "    </tr>\n",
       "    <tr>\n",
       "      <th>6005</th>\n",
       "      <td>1.0</td>\n",
       "      <td>34</td>\n",
       "      <td>0.0</td>\n",
       "      <td>0.0</td>\n",
       "      <td>21</td>\n",
       "      <td>0.0</td>\n",
       "      <td>0.0</td>\n",
       "      <td>0.0</td>\n",
       "      <td>0.0</td>\n",
       "      <td>1.0</td>\n",
       "      <td>...</td>\n",
       "      <td>0.0</td>\n",
       "      <td>1.0</td>\n",
       "      <td>1.0</td>\n",
       "      <td>0.0</td>\n",
       "      <td>80.000000</td>\n",
       "      <td>4242.350098</td>\n",
       "      <td>0.0</td>\n",
       "      <td>0</td>\n",
       "      <td>286.619995</td>\n",
       "      <td>4528.970215</td>\n",
       "    </tr>\n",
       "    <tr>\n",
       "      <th>6006</th>\n",
       "      <td>1.0</td>\n",
       "      <td>35</td>\n",
       "      <td>0.0</td>\n",
       "      <td>0.0</td>\n",
       "      <td>9</td>\n",
       "      <td>0.0</td>\n",
       "      <td>1.0</td>\n",
       "      <td>0.0</td>\n",
       "      <td>0.0</td>\n",
       "      <td>1.0</td>\n",
       "      <td>...</td>\n",
       "      <td>0.0</td>\n",
       "      <td>1.0</td>\n",
       "      <td>0.0</td>\n",
       "      <td>0.0</td>\n",
       "      <td>87.800003</td>\n",
       "      <td>2621.750000</td>\n",
       "      <td>0.0</td>\n",
       "      <td>0</td>\n",
       "      <td>974.979981</td>\n",
       "      <td>3596.729980</td>\n",
       "    </tr>\n",
       "  </tbody>\n",
       "</table>\n",
       "<p>6007 rows × 26 columns</p>\n",
       "</div>"
      ],
      "text/plain": [
       "      Gender  Age  Married  State  Tenure_in_Months  Phone_Service  \\\n",
       "0        0.0   43      0.0    0.0                10            0.0   \n",
       "1        0.0   34      0.0    0.0                12            0.0   \n",
       "2        0.0   29      1.0    0.0                 5            0.0   \n",
       "3        0.0   50      1.0    0.0                31            0.0   \n",
       "4        1.0   74      0.0    0.0                 5            0.0   \n",
       "...      ...  ...      ...    ...               ...            ...   \n",
       "6002     1.0   56      1.0    0.0                13            0.0   \n",
       "6003     0.0   30      1.0    0.0                 6            0.0   \n",
       "6004     0.0   24      0.0    0.0                 4            0.0   \n",
       "6005     1.0   34      0.0    0.0                21            0.0   \n",
       "6006     1.0   35      0.0    0.0                 9            0.0   \n",
       "\n",
       "      Multiple_Lines  Internet_Service  Internet_Type  Online_Security  ...  \\\n",
       "0                0.0               0.0            0.0              1.0  ...   \n",
       "1                1.0               1.0            0.0              1.0  ...   \n",
       "2                1.0               0.0            1.0              1.0  ...   \n",
       "3                1.0               0.0            0.0              1.0  ...   \n",
       "4                1.0               0.0            0.0              1.0  ...   \n",
       "...              ...               ...            ...              ...  ...   \n",
       "6002             0.0               0.0            0.0              0.0  ...   \n",
       "6003             0.0               0.0            0.0              1.0  ...   \n",
       "6004             1.0               0.0            0.0              1.0  ...   \n",
       "6005             0.0               0.0            0.0              1.0  ...   \n",
       "6006             1.0               0.0            0.0              1.0  ...   \n",
       "\n",
       "      Unlimited_Data  Contract  Paperless_Billing  Payment_Method  \\\n",
       "0                0.0       1.0                0.0             0.0   \n",
       "1                1.0       0.0                1.0             0.0   \n",
       "2                0.0       1.0                0.0             1.0   \n",
       "3                1.0       1.0                1.0             1.0   \n",
       "4                0.0       1.0                0.0             0.0   \n",
       "...              ...       ...                ...             ...   \n",
       "6002             0.0       0.0                0.0             1.0   \n",
       "6003             0.0       1.0                0.0             1.0   \n",
       "6004             0.0       0.0                0.0             0.0   \n",
       "6005             0.0       1.0                1.0             0.0   \n",
       "6006             0.0       1.0                0.0             0.0   \n",
       "\n",
       "      Monthly_Charge  Total_Charges  Total_Refunds  Total_Extra_Data_Charges  \\\n",
       "0          75.349998    3161.399902            0.0                         0   \n",
       "1          20.900000     454.000000            0.0                         0   \n",
       "2          70.699997     141.449997            0.0                         0   \n",
       "3          77.849998     299.200012            0.0                        10   \n",
       "4          70.449997      70.449997            0.0                         0   \n",
       "...              ...            ...            ...                       ...   \n",
       "6002      114.000000    8093.149902            0.0                         0   \n",
       "6003       75.599998    1395.050049            0.0                         0   \n",
       "6004      102.449997    6654.100098            0.0                         0   \n",
       "6005       80.000000    4242.350098            0.0                         0   \n",
       "6006       87.800003    2621.750000            0.0                         0   \n",
       "\n",
       "      Total_Long_Distance_Charges  Total_Revenue  \n",
       "0                      845.380005    4006.780029  \n",
       "1                      434.929993     888.929993  \n",
       "2                       19.520000     160.970001  \n",
       "3                      171.199997     480.399994  \n",
       "4                       15.280000      85.730003  \n",
       "...                           ...            ...  \n",
       "6002                  2337.840088   10430.990230  \n",
       "6003                   273.239990    1668.290039  \n",
       "6004                  2591.360107    9245.459961  \n",
       "6005                   286.619995    4528.970215  \n",
       "6006                   974.979981    3596.729980  \n",
       "\n",
       "[6007 rows x 26 columns]"
      ]
     },
     "execution_count": 9,
     "metadata": {},
     "output_type": "execute_result"
    }
   ],
   "source": [
    "X"
   ]
  },
  {
   "cell_type": "code",
   "execution_count": 10,
   "id": "b3a8bffd",
   "metadata": {},
   "outputs": [
    {
     "data": {
      "text/plain": [
       "(6007, 26)"
      ]
     },
     "execution_count": 10,
     "metadata": {},
     "output_type": "execute_result"
    }
   ],
   "source": [
    "X.shape"
   ]
  },
  {
   "cell_type": "code",
   "execution_count": 11,
   "id": "f8595abc",
   "metadata": {},
   "outputs": [
    {
     "data": {
      "text/plain": [
       "0       0\n",
       "1       0\n",
       "2       1\n",
       "3       1\n",
       "4       1\n",
       "       ..\n",
       "6002    0\n",
       "6003    0\n",
       "6004    0\n",
       "6005    1\n",
       "6006    0\n",
       "Name: Customer_Status, Length: 6007, dtype: int64"
      ]
     },
     "execution_count": 11,
     "metadata": {},
     "output_type": "execute_result"
    }
   ],
   "source": [
    "y = df.iloc[:,-1]\n",
    "y"
   ]
  },
  {
   "cell_type": "code",
   "execution_count": 12,
   "id": "835bdd4e",
   "metadata": {},
   "outputs": [
    {
     "data": {
      "text/plain": [
       "(6007,)"
      ]
     },
     "execution_count": 12,
     "metadata": {},
     "output_type": "execute_result"
    }
   ],
   "source": [
    "y.shape"
   ]
  },
  {
   "cell_type": "markdown",
   "id": "ad65298e",
   "metadata": {},
   "source": [
    "# Model Training"
   ]
  },
  {
   "cell_type": "code",
   "execution_count": 13,
   "id": "f5401096",
   "metadata": {},
   "outputs": [],
   "source": [
    "X_train , X_test , y_train, y_test = train_test_split(X, y, test_size=0.20, random_state = 42)"
   ]
  },
  {
   "cell_type": "code",
   "execution_count": 14,
   "id": "bd03748a",
   "metadata": {},
   "outputs": [],
   "source": [
    "rf_model = RandomForestClassifier(n_estimators=100, random_state=42)"
   ]
  },
  {
   "cell_type": "code",
   "execution_count": 15,
   "id": "6f1e30b8",
   "metadata": {},
   "outputs": [
    {
     "data": {
      "text/plain": [
       "RandomForestClassifier(random_state=42)"
      ]
     },
     "execution_count": 15,
     "metadata": {},
     "output_type": "execute_result"
    }
   ],
   "source": [
    "rf_model.fit(X_train, y_train)"
   ]
  },
  {
   "cell_type": "markdown",
   "id": "cf4ae3aa",
   "metadata": {},
   "source": [
    "# Model Evaluation"
   ]
  },
  {
   "cell_type": "code",
   "execution_count": 16,
   "id": "d18876c9",
   "metadata": {},
   "outputs": [],
   "source": [
    "y_pred = rf_model.predict(X_test)"
   ]
  },
  {
   "cell_type": "code",
   "execution_count": 17,
   "id": "1e1fc552",
   "metadata": {},
   "outputs": [
    {
     "name": "stdout",
     "output_type": "stream",
     "text": [
      "Model Accuracy: 0.84\n"
     ]
    }
   ],
   "source": [
    "accuracy = accuracy_score(y_test, y_pred)\n",
    "print(f'Model Accuracy: {accuracy:.2f}')"
   ]
  },
  {
   "cell_type": "code",
   "execution_count": 18,
   "id": "a43b450b",
   "metadata": {
    "scrolled": true
   },
   "outputs": [
    {
     "name": "stdout",
     "output_type": "stream",
     "text": [
      "[[803  59]\n",
      " [128 212]]\n"
     ]
    }
   ],
   "source": [
    "print(confusion_matrix(y_test, y_pred))"
   ]
  },
  {
   "cell_type": "code",
   "execution_count": 19,
   "id": "4449843e",
   "metadata": {},
   "outputs": [
    {
     "name": "stdout",
     "output_type": "stream",
     "text": [
      "              precision    recall  f1-score   support\n",
      "\n",
      "           0       0.86      0.93      0.90       862\n",
      "           1       0.78      0.62      0.69       340\n",
      "\n",
      "    accuracy                           0.84      1202\n",
      "   macro avg       0.82      0.78      0.79      1202\n",
      "weighted avg       0.84      0.84      0.84      1202\n",
      "\n"
     ]
    }
   ],
   "source": [
    "print(classification_report(y_test, y_pred))"
   ]
  },
  {
   "cell_type": "markdown",
   "id": "4d6471a5",
   "metadata": {},
   "source": [
    "# Feature Scaling"
   ]
  },
  {
   "cell_type": "code",
   "execution_count": 20,
   "id": "c071f7a3",
   "metadata": {},
   "outputs": [],
   "source": [
    "# Feature Selection using Feature Importance\n",
    "importances = rf_model.feature_importances_\n",
    "indices = np.argsort(importances)[::-1]\n"
   ]
  },
  {
   "cell_type": "code",
   "execution_count": 21,
   "id": "5e214b61",
   "metadata": {},
   "outputs": [
    {
     "data": {
      "text/plain": [
       "array([21, 25, 17, 20, 24,  1,  4,  9,  7, 12, 19, 18, 23,  2,  6,  0, 11,\n",
       "       10, 22, 16, 15, 13, 14,  8,  3,  5], dtype=int64)"
      ]
     },
     "execution_count": 21,
     "metadata": {},
     "output_type": "execute_result"
    }
   ],
   "source": [
    "indices"
   ]
  },
  {
   "cell_type": "code",
   "execution_count": 22,
   "id": "3557c37e",
   "metadata": {},
   "outputs": [
    {
     "data": {
      "image/png": "[encoded data removed]",
      "text/plain": [
       "<Figure size 1080x432 with 1 Axes>"
      ]
     },
     "metadata": {
      "needs_background": "light"
     },
     "output_type": "display_data"
    }
   ],
   "source": [
    "# Plot the feature importances\n",
    "plt.figure(figsize=(15, 6))\n",
    "sns.barplot(x=importances[indices], y=X.columns[indices])\n",
    "plt.title('Feature Importances')\n",
    "plt.xlabel('Relative Importance')\n",
    "plt.ylabel('Feature Names')\n",
    "plt.show()\n"
   ]
  },
  {
   "cell_type": "code",
   "execution_count": 23,
   "id": "ee91ec37",
   "metadata": {},
   "outputs": [],
   "source": [
    "import pickle\n",
    "import os\n",
    "pickle.dump(rf_model, open('rf_model.pkl', 'wb'))"
   ]
  },
  {
   "cell_type": "markdown",
   "id": "2d65e5e4",
   "metadata": {},
   "source": [
    "# Predicting New data "
   ]
  },
  {
   "cell_type": "code",
   "execution_count": 25,
   "id": "dad57054",
   "metadata": {},
   "outputs": [],
   "source": [
    "df_new = pd.read_csv ('Churned_joined.csv')"
   ]
  },
  {
   "cell_type": "code",
   "execution_count": 26,
   "id": "afb84693",
   "metadata": {},
   "outputs": [],
   "source": [
    "# Retain the original DataFrame to preserve unencoded columns\n",
    "original_data = df_new.copy()\n",
    "\n",
    "# Retain the Customer_ID column\n",
    "customer_ids = df_new['Customer_ID']\n"
   ]
  },
  {
   "cell_type": "code",
   "execution_count": 27,
   "id": "8ad2cb61",
   "metadata": {},
   "outputs": [],
   "source": [
    "df_new = df_new.drop(['Customer_ID', 'Value_Deal', 'Customer_Status', 'Number_of_Referrals', 'Churn_Category', 'Churn_Reason'], axis = 1)"
   ]
  },
  {
   "cell_type": "code",
   "execution_count": 28,
   "id": "b86e3a1c",
   "metadata": {},
   "outputs": [
    {
     "data": {
      "text/plain": [
       "(411, 26)"
      ]
     },
     "execution_count": 28,
     "metadata": {},
     "output_type": "execute_result"
    }
   ],
   "source": [
    "df_new.shape"
   ]
  },
  {
   "cell_type": "code",
   "execution_count": 29,
   "id": "82b3e298",
   "metadata": {},
   "outputs": [],
   "source": [
    "encoding(df_new)"
   ]
  },
  {
   "cell_type": "code",
   "execution_count": 30,
   "id": "2b27851c",
   "metadata": {},
   "outputs": [
    {
     "data": {
      "text/plain": [
       "(411, 26)"
      ]
     },
     "execution_count": 30,
     "metadata": {},
     "output_type": "execute_result"
    }
   ],
   "source": [
    "df_new.shape"
   ]
  },
  {
   "cell_type": "code",
   "execution_count": 31,
   "id": "a5a0d048",
   "metadata": {},
   "outputs": [],
   "source": [
    "new_data_categorical_columns = df_new.select_dtypes(include=['object', 'category']).columns"
   ]
  },
  {
   "cell_type": "code",
   "execution_count": 32,
   "id": "9ee49463",
   "metadata": {},
   "outputs": [
    {
     "data": {
      "text/plain": [
       "Index([], dtype='object')"
      ]
     },
     "execution_count": 32,
     "metadata": {},
     "output_type": "execute_result"
    }
   ],
   "source": [
    "new_data_categorical_columns"
   ]
  },
  {
   "cell_type": "code",
   "execution_count": 33,
   "id": "3515c02d",
   "metadata": {},
   "outputs": [],
   "source": [
    "load_model = pickle.load(open('rf_model.pkl', 'rb'))"
   ]
  },
  {
   "cell_type": "code",
   "execution_count": 34,
   "id": "7d6a9ebf",
   "metadata": {},
   "outputs": [],
   "source": [
    "predictions = load_model.predict(df_new)"
   ]
  },
  {
   "cell_type": "code",
   "execution_count": 35,
   "id": "e00d807c",
   "metadata": {},
   "outputs": [
    {
     "data": {
      "text/plain": [
       "array([1, 1, 1, 1, 1, 1, 1, 0, 1, 1, 1, 1, 1, 1, 1, 1, 1, 1, 1, 1, 1, 1,\n",
       "       1, 0, 0, 0, 1, 1, 1, 1, 1, 1, 1, 1, 1, 1, 1, 1, 1, 1, 1, 0, 1, 1,\n",
       "       1, 1, 1, 1, 1, 1, 1, 1, 1, 1, 1, 1, 1, 1, 1, 1, 1, 1, 1, 1, 1, 1,\n",
       "       1, 1, 1, 1, 1, 1, 1, 1, 1, 1, 1, 1, 1, 1, 1, 1, 1, 1, 1, 1, 1, 1,\n",
       "       1, 1, 1, 1, 1, 1, 1, 1, 1, 1, 1, 1, 1, 1, 1, 1, 1, 1, 1, 1, 1, 1,\n",
       "       0, 1, 0, 1, 1, 1, 1, 1, 1, 1, 1, 1, 1, 0, 1, 1, 1, 1, 0, 1, 1, 1,\n",
       "       1, 1, 1, 1, 1, 1, 1, 1, 1, 1, 1, 1, 1, 0, 1, 1, 1, 1, 1, 0, 1, 1,\n",
       "       1, 1, 0, 1, 1, 1, 0, 1, 1, 1, 0, 1, 1, 0, 1, 1, 1, 1, 1, 1, 1, 1,\n",
       "       1, 1, 1, 0, 1, 1, 1, 1, 1, 1, 1, 1, 1, 0, 1, 1, 1, 0, 0, 1, 1, 1,\n",
       "       1, 1, 1, 1, 1, 1, 1, 1, 1, 1, 1, 1, 1, 1, 1, 1, 1, 1, 1, 1, 1, 1,\n",
       "       0, 0, 1, 1, 1, 1, 1, 1, 1, 1, 1, 1, 1, 1, 0, 1, 1, 1, 0, 1, 1, 1,\n",
       "       1, 1, 1, 1, 0, 1, 1, 1, 1, 1, 1, 1, 1, 1, 1, 1, 1, 1, 1, 1, 1, 1,\n",
       "       1, 1, 1, 1, 1, 1, 1, 1, 1, 1, 1, 1, 1, 1, 1, 1, 1, 0, 1, 1, 1, 1,\n",
       "       1, 1, 1, 1, 0, 1, 1, 1, 1, 1, 1, 1, 1, 1, 1, 1, 1, 1, 1, 1, 1, 1,\n",
       "       0, 1, 1, 1, 1, 1, 1, 1, 1, 1, 1, 1, 1, 1, 1, 1, 1, 1, 1, 1, 1, 1,\n",
       "       1, 1, 0, 0, 1, 1, 1, 1, 1, 1, 1, 1, 1, 1, 0, 1, 1, 1, 1, 1, 1, 1,\n",
       "       1, 1, 1, 1, 1, 1, 1, 1, 1, 1, 1, 1, 1, 1, 1, 1, 1, 1, 1, 0, 1, 1,\n",
       "       1, 1, 1, 1, 0, 1, 1, 1, 1, 1, 1, 1, 1, 1, 1, 1, 1, 1, 1, 1, 1, 0,\n",
       "       1, 1, 1, 1, 1, 1, 1, 1, 1, 1, 1, 1, 1, 1, 1], dtype=int64)"
      ]
     },
     "execution_count": 35,
     "metadata": {},
     "output_type": "execute_result"
    }
   ],
   "source": [
    "predictions"
   ]
  },
  {
   "cell_type": "code",
   "execution_count": 36,
   "id": "79200536",
   "metadata": {},
   "outputs": [],
   "source": [
    "original_data['Customer_Status_Predicted'] = predictions"
   ]
  },
  {
   "cell_type": "code",
   "execution_count": 37,
   "id": "84e1e8aa",
   "metadata": {},
   "outputs": [
    {
     "data": {
      "text/plain": [
       "array([1, 1, 1, 1, 1, 1, 1, 0, 1, 1, 1, 1, 1, 1, 1, 1, 1, 1, 1, 1, 1, 1,\n",
       "       1, 0, 0, 0, 1, 1, 1, 1, 1, 1, 1, 1, 1, 1, 1, 1, 1, 1, 1, 0, 1, 1,\n",
       "       1, 1, 1, 1, 1, 1, 1, 1, 1, 1, 1, 1, 1, 1, 1, 1, 1, 1, 1, 1, 1, 1,\n",
       "       1, 1, 1, 1, 1, 1, 1, 1, 1, 1, 1, 1, 1, 1, 1, 1, 1, 1, 1, 1, 1, 1,\n",
       "       1, 1, 1, 1, 1, 1, 1, 1, 1, 1, 1, 1, 1, 1, 1, 1, 1, 1, 1, 1, 1, 1,\n",
       "       0, 1, 0, 1, 1, 1, 1, 1, 1, 1, 1, 1, 1, 0, 1, 1, 1, 1, 0, 1, 1, 1,\n",
       "       1, 1, 1, 1, 1, 1, 1, 1, 1, 1, 1, 1, 1, 0, 1, 1, 1, 1, 1, 0, 1, 1,\n",
       "       1, 1, 0, 1, 1, 1, 0, 1, 1, 1, 0, 1, 1, 0, 1, 1, 1, 1, 1, 1, 1, 1,\n",
       "       1, 1, 1, 0, 1, 1, 1, 1, 1, 1, 1, 1, 1, 0, 1, 1, 1, 0, 0, 1, 1, 1,\n",
       "       1, 1, 1, 1, 1, 1, 1, 1, 1, 1, 1, 1, 1, 1, 1, 1, 1, 1, 1, 1, 1, 1,\n",
       "       0, 0, 1, 1, 1, 1, 1, 1, 1, 1, 1, 1, 1, 1, 0, 1, 1, 1, 0, 1, 1, 1,\n",
       "       1, 1, 1, 1, 0, 1, 1, 1, 1, 1, 1, 1, 1, 1, 1, 1, 1, 1, 1, 1, 1, 1,\n",
       "       1, 1, 1, 1, 1, 1, 1, 1, 1, 1, 1, 1, 1, 1, 1, 1, 1, 0, 1, 1, 1, 1,\n",
       "       1, 1, 1, 1, 0, 1, 1, 1, 1, 1, 1, 1, 1, 1, 1, 1, 1, 1, 1, 1, 1, 1,\n",
       "       0, 1, 1, 1, 1, 1, 1, 1, 1, 1, 1, 1, 1, 1, 1, 1, 1, 1, 1, 1, 1, 1,\n",
       "       1, 1, 0, 0, 1, 1, 1, 1, 1, 1, 1, 1, 1, 1, 0, 1, 1, 1, 1, 1, 1, 1,\n",
       "       1, 1, 1, 1, 1, 1, 1, 1, 1, 1, 1, 1, 1, 1, 1, 1, 1, 1, 1, 0, 1, 1,\n",
       "       1, 1, 1, 1, 0, 1, 1, 1, 1, 1, 1, 1, 1, 1, 1, 1, 1, 1, 1, 1, 1, 0,\n",
       "       1, 1, 1, 1, 1, 1, 1, 1, 1, 1, 1, 1, 1, 1, 1], dtype=int64)"
      ]
     },
     "execution_count": 37,
     "metadata": {},
     "output_type": "execute_result"
    }
   ],
   "source": [
    "predictions"
   ]
  },
  {
   "cell_type": "code",
   "execution_count": 38,
   "id": "42fe24d2",
   "metadata": {},
   "outputs": [],
   "source": [
    "# Filter the DataFrame to include only records predicted as \"Churned\"\n",
    "original_data = original_data[original_data['Customer_Status_Predicted'] == 1]\n",
    "\n",
    "# Save the results\n",
    "original_data.to_csv(\"Predictions.csv\", index=False)\n"
   ]
  }
 ],
 "metadata": {
  "kernelspec": {
   "display_name": "Python 3",
   "language": "python",
   "name": "python3"
  },
  "language_info": {
   "codemirror_mode": {
    "name": "ipython",
    "version": 3
   },
   "file_extension": ".py",
   "mimetype": "text/x-python",
   "name": "python",
   "nbconvert_exporter": "python",
   "pygments_lexer": "ipython3",
   "version": "3.8.8"
  }
 },
 "nbformat": 4,
 "nbformat_minor": 5
}
